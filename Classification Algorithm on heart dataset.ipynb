{
 "cells": [
  {
   "cell_type": "code",
   "execution_count": 1,
   "id": "9d355909",
   "metadata": {
    "scrolled": true
   },
   "outputs": [],
   "source": [
    "import numpy as np\n",
    "import pandas as pd\n",
    "import matplotlib.pyplot as plt\n",
    "import seaborn as sb"
   ]
  },
  {
   "cell_type": "code",
   "execution_count": 2,
   "id": "cb1cc235",
   "metadata": {
    "scrolled": true
   },
   "outputs": [],
   "source": [
    "df=pd.read_csv(\"heart.csv\")"
   ]
  },
  {
   "cell_type": "code",
   "execution_count": 3,
   "id": "dfbe9386",
   "metadata": {
    "scrolled": true
   },
   "outputs": [
    {
     "data": {
      "text/html": [
       "<div>\n",
       "<style scoped>\n",
       "    .dataframe tbody tr th:only-of-type {\n",
       "        vertical-align: middle;\n",
       "    }\n",
       "\n",
       "    .dataframe tbody tr th {\n",
       "        vertical-align: top;\n",
       "    }\n",
       "\n",
       "    .dataframe thead th {\n",
       "        text-align: right;\n",
       "    }\n",
       "</style>\n",
       "<table border=\"1\" class=\"dataframe\">\n",
       "  <thead>\n",
       "    <tr style=\"text-align: right;\">\n",
       "      <th></th>\n",
       "      <th>age</th>\n",
       "      <th>sex</th>\n",
       "      <th>cp</th>\n",
       "      <th>trestbps</th>\n",
       "      <th>chol</th>\n",
       "      <th>fbs</th>\n",
       "      <th>restecg</th>\n",
       "      <th>thalach</th>\n",
       "      <th>exang</th>\n",
       "      <th>oldpeak</th>\n",
       "      <th>slope</th>\n",
       "      <th>ca</th>\n",
       "      <th>thal</th>\n",
       "      <th>target</th>\n",
       "    </tr>\n",
       "  </thead>\n",
       "  <tbody>\n",
       "    <tr>\n",
       "      <th>0</th>\n",
       "      <td>52</td>\n",
       "      <td>1</td>\n",
       "      <td>0</td>\n",
       "      <td>125</td>\n",
       "      <td>212</td>\n",
       "      <td>0</td>\n",
       "      <td>1</td>\n",
       "      <td>168</td>\n",
       "      <td>0</td>\n",
       "      <td>1.0</td>\n",
       "      <td>2</td>\n",
       "      <td>2</td>\n",
       "      <td>3</td>\n",
       "      <td>0</td>\n",
       "    </tr>\n",
       "    <tr>\n",
       "      <th>1</th>\n",
       "      <td>53</td>\n",
       "      <td>1</td>\n",
       "      <td>0</td>\n",
       "      <td>140</td>\n",
       "      <td>203</td>\n",
       "      <td>1</td>\n",
       "      <td>0</td>\n",
       "      <td>155</td>\n",
       "      <td>1</td>\n",
       "      <td>3.1</td>\n",
       "      <td>0</td>\n",
       "      <td>0</td>\n",
       "      <td>3</td>\n",
       "      <td>0</td>\n",
       "    </tr>\n",
       "    <tr>\n",
       "      <th>2</th>\n",
       "      <td>70</td>\n",
       "      <td>1</td>\n",
       "      <td>0</td>\n",
       "      <td>145</td>\n",
       "      <td>174</td>\n",
       "      <td>0</td>\n",
       "      <td>1</td>\n",
       "      <td>125</td>\n",
       "      <td>1</td>\n",
       "      <td>2.6</td>\n",
       "      <td>0</td>\n",
       "      <td>0</td>\n",
       "      <td>3</td>\n",
       "      <td>0</td>\n",
       "    </tr>\n",
       "    <tr>\n",
       "      <th>3</th>\n",
       "      <td>61</td>\n",
       "      <td>1</td>\n",
       "      <td>0</td>\n",
       "      <td>148</td>\n",
       "      <td>203</td>\n",
       "      <td>0</td>\n",
       "      <td>1</td>\n",
       "      <td>161</td>\n",
       "      <td>0</td>\n",
       "      <td>0.0</td>\n",
       "      <td>2</td>\n",
       "      <td>1</td>\n",
       "      <td>3</td>\n",
       "      <td>0</td>\n",
       "    </tr>\n",
       "    <tr>\n",
       "      <th>4</th>\n",
       "      <td>62</td>\n",
       "      <td>0</td>\n",
       "      <td>0</td>\n",
       "      <td>138</td>\n",
       "      <td>294</td>\n",
       "      <td>1</td>\n",
       "      <td>1</td>\n",
       "      <td>106</td>\n",
       "      <td>0</td>\n",
       "      <td>1.9</td>\n",
       "      <td>1</td>\n",
       "      <td>3</td>\n",
       "      <td>2</td>\n",
       "      <td>0</td>\n",
       "    </tr>\n",
       "    <tr>\n",
       "      <th>5</th>\n",
       "      <td>58</td>\n",
       "      <td>0</td>\n",
       "      <td>0</td>\n",
       "      <td>100</td>\n",
       "      <td>248</td>\n",
       "      <td>0</td>\n",
       "      <td>0</td>\n",
       "      <td>122</td>\n",
       "      <td>0</td>\n",
       "      <td>1.0</td>\n",
       "      <td>1</td>\n",
       "      <td>0</td>\n",
       "      <td>2</td>\n",
       "      <td>1</td>\n",
       "    </tr>\n",
       "    <tr>\n",
       "      <th>6</th>\n",
       "      <td>58</td>\n",
       "      <td>1</td>\n",
       "      <td>0</td>\n",
       "      <td>114</td>\n",
       "      <td>318</td>\n",
       "      <td>0</td>\n",
       "      <td>2</td>\n",
       "      <td>140</td>\n",
       "      <td>0</td>\n",
       "      <td>4.4</td>\n",
       "      <td>0</td>\n",
       "      <td>3</td>\n",
       "      <td>1</td>\n",
       "      <td>0</td>\n",
       "    </tr>\n",
       "    <tr>\n",
       "      <th>7</th>\n",
       "      <td>55</td>\n",
       "      <td>1</td>\n",
       "      <td>0</td>\n",
       "      <td>160</td>\n",
       "      <td>289</td>\n",
       "      <td>0</td>\n",
       "      <td>0</td>\n",
       "      <td>145</td>\n",
       "      <td>1</td>\n",
       "      <td>0.8</td>\n",
       "      <td>1</td>\n",
       "      <td>1</td>\n",
       "      <td>3</td>\n",
       "      <td>0</td>\n",
       "    </tr>\n",
       "    <tr>\n",
       "      <th>8</th>\n",
       "      <td>46</td>\n",
       "      <td>1</td>\n",
       "      <td>0</td>\n",
       "      <td>120</td>\n",
       "      <td>249</td>\n",
       "      <td>0</td>\n",
       "      <td>0</td>\n",
       "      <td>144</td>\n",
       "      <td>0</td>\n",
       "      <td>0.8</td>\n",
       "      <td>2</td>\n",
       "      <td>0</td>\n",
       "      <td>3</td>\n",
       "      <td>0</td>\n",
       "    </tr>\n",
       "    <tr>\n",
       "      <th>9</th>\n",
       "      <td>54</td>\n",
       "      <td>1</td>\n",
       "      <td>0</td>\n",
       "      <td>122</td>\n",
       "      <td>286</td>\n",
       "      <td>0</td>\n",
       "      <td>0</td>\n",
       "      <td>116</td>\n",
       "      <td>1</td>\n",
       "      <td>3.2</td>\n",
       "      <td>1</td>\n",
       "      <td>2</td>\n",
       "      <td>2</td>\n",
       "      <td>0</td>\n",
       "    </tr>\n",
       "  </tbody>\n",
       "</table>\n",
       "</div>"
      ],
      "text/plain": [
       "   age  sex  cp  trestbps  chol  fbs  restecg  thalach  exang  oldpeak  slope  \\\n",
       "0   52    1   0       125   212    0        1      168      0      1.0      2   \n",
       "1   53    1   0       140   203    1        0      155      1      3.1      0   \n",
       "2   70    1   0       145   174    0        1      125      1      2.6      0   \n",
       "3   61    1   0       148   203    0        1      161      0      0.0      2   \n",
       "4   62    0   0       138   294    1        1      106      0      1.9      1   \n",
       "5   58    0   0       100   248    0        0      122      0      1.0      1   \n",
       "6   58    1   0       114   318    0        2      140      0      4.4      0   \n",
       "7   55    1   0       160   289    0        0      145      1      0.8      1   \n",
       "8   46    1   0       120   249    0        0      144      0      0.8      2   \n",
       "9   54    1   0       122   286    0        0      116      1      3.2      1   \n",
       "\n",
       "   ca  thal  target  \n",
       "0   2     3       0  \n",
       "1   0     3       0  \n",
       "2   0     3       0  \n",
       "3   1     3       0  \n",
       "4   3     2       0  \n",
       "5   0     2       1  \n",
       "6   3     1       0  \n",
       "7   1     3       0  \n",
       "8   0     3       0  \n",
       "9   2     2       0  "
      ]
     },
     "execution_count": 3,
     "metadata": {},
     "output_type": "execute_result"
    }
   ],
   "source": [
    "df.head(10)"
   ]
  },
  {
   "cell_type": "code",
   "execution_count": 4,
   "id": "61124266",
   "metadata": {},
   "outputs": [],
   "source": [
    "#here we have to predict whether the preson is having heart disease or not.\n",
    "#since the output column in in categorical form(0,1) so we will be performing classification algorithm\n"
   ]
  },
  {
   "cell_type": "markdown",
   "id": "79607b13",
   "metadata": {},
   "source": [
    "# performing eda:"
   ]
  },
  {
   "cell_type": "code",
   "execution_count": 5,
   "id": "df25790d",
   "metadata": {
    "scrolled": true
   },
   "outputs": [
    {
     "data": {
      "text/plain": [
       "age         0\n",
       "sex         0\n",
       "cp          0\n",
       "trestbps    0\n",
       "chol        0\n",
       "fbs         0\n",
       "restecg     0\n",
       "thalach     0\n",
       "exang       0\n",
       "oldpeak     0\n",
       "slope       0\n",
       "ca          0\n",
       "thal        0\n",
       "target      0\n",
       "dtype: int64"
      ]
     },
     "execution_count": 5,
     "metadata": {},
     "output_type": "execute_result"
    }
   ],
   "source": [
    "#checking null values\n",
    "df.isnull().sum()"
   ]
  },
  {
   "cell_type": "code",
   "execution_count": 6,
   "id": "667ac024",
   "metadata": {
    "scrolled": true
   },
   "outputs": [
    {
     "data": {
      "text/plain": [
       "age           int64\n",
       "sex           int64\n",
       "cp            int64\n",
       "trestbps      int64\n",
       "chol          int64\n",
       "fbs           int64\n",
       "restecg       int64\n",
       "thalach       int64\n",
       "exang         int64\n",
       "oldpeak     float64\n",
       "slope         int64\n",
       "ca            int64\n",
       "thal          int64\n",
       "target        int64\n",
       "dtype: object"
      ]
     },
     "execution_count": 6,
     "metadata": {},
     "output_type": "execute_result"
    }
   ],
   "source": [
    "df.dtypes"
   ]
  },
  {
   "cell_type": "code",
   "execution_count": 7,
   "id": "316b6c46",
   "metadata": {
    "scrolled": true
   },
   "outputs": [],
   "source": [
    "#no null values present\n"
   ]
  },
  {
   "cell_type": "code",
   "execution_count": 8,
   "id": "2963cbb9",
   "metadata": {
    "scrolled": true
   },
   "outputs": [
    {
     "data": {
      "text/plain": [
       "723"
      ]
     },
     "execution_count": 8,
     "metadata": {},
     "output_type": "execute_result"
    }
   ],
   "source": [
    "#checking duplicate values\n",
    "df.duplicated().sum()"
   ]
  },
  {
   "cell_type": "code",
   "execution_count": 9,
   "id": "60745189",
   "metadata": {
    "scrolled": true
   },
   "outputs": [],
   "source": [
    "#there are 723 duplicate so rdeleting the dupliacte rows\n",
    "df.drop_duplicates(inplace=True)"
   ]
  },
  {
   "cell_type": "code",
   "execution_count": 10,
   "id": "9d783bc2",
   "metadata": {
    "scrolled": true
   },
   "outputs": [
    {
     "data": {
      "text/plain": [
       "0"
      ]
     },
     "execution_count": 10,
     "metadata": {},
     "output_type": "execute_result"
    }
   ],
   "source": [
    "#checking duplicate values\n",
    "df.duplicated().sum()"
   ]
  },
  {
   "cell_type": "code",
   "execution_count": 11,
   "id": "76e5273e",
   "metadata": {
    "scrolled": true
   },
   "outputs": [
    {
     "data": {
      "image/png": "[encoded data removed]",
      "text/plain": [
       "<Figure size 432x288 with 1 Axes>"
      ]
     },
     "metadata": {
      "needs_background": "light"
     },
     "output_type": "display_data"
    }
   ],
   "source": [
    "#chek the output is balancedor not\n",
    "sb.countplot(data=df,x='target')\n",
    "f=df['target'].value_counts()\n",
    "plt.yticks(f)\n",
    "plt.show()\n",
    "#here the data is balanced"
   ]
  },
  {
   "cell_type": "code",
   "execution_count": 12,
   "id": "a5c1208d",
   "metadata": {
    "scrolled": true
   },
   "outputs": [],
   "source": [
    "#select input and output\n",
    "#output column is target\n",
    "x=df.drop('target',axis=1)\n",
    "y=df['target']"
   ]
  },
  {
   "cell_type": "code",
   "execution_count": 13,
   "id": "29d0cc94",
   "metadata": {
    "scrolled": true
   },
   "outputs": [],
   "source": [
    "#split the data\n",
    "from sklearn.model_selection import train_test_split\n",
    "#creating objetc of train test split\n",
    "x_train,x_test,y_train,y_test=train_test_split(x,y,test_size=0.3,random_state=1)"
   ]
  },
  {
   "cell_type": "code",
   "execution_count": 14,
   "id": "7a0ee86c",
   "metadata": {
    "scrolled": true
   },
   "outputs": [],
   "source": [
    "#applying standarad scaler on input\n",
    "from sklearn.preprocessing import StandardScaler\n",
    "ss=StandardScaler()\n",
    "x_train=ss.fit_transform(x_train)\n",
    "x_test=ss.transform(x_test)"
   ]
  },
  {
   "cell_type": "code",
   "execution_count": 15,
   "id": "69ed96b3",
   "metadata": {
    "scrolled": true
   },
   "outputs": [],
   "source": [
    "#create a function \n",
    "def create_model(model):#model uset define which hold the object of algo\n",
    "    #train the model with 70%\n",
    "    model.fit(x_train,y_train)\n",
    "    #test the mdoel with 30 % data\n",
    "    y_pred=model.predict(x_test)\n",
    "    #generate report\n",
    "    from sklearn.metrics import confusion_matrix,classification_report\n",
    "    print(classification_report(y_test,y_pred))\n",
    "    print(confusion_matrix(y_test,y_pred))\n",
    "    return model"
   ]
  },
  {
   "cell_type": "code",
   "execution_count": 16,
   "id": "a700431d",
   "metadata": {
    "scrolled": true
   },
   "outputs": [],
   "source": [
    "#perform logitic model:\n",
    "\n",
    "from sklearn.linear_model import LogisticRegression\n",
    "lr=LogisticRegression()"
   ]
  },
  {
   "cell_type": "code",
   "execution_count": 17,
   "id": "66e60299",
   "metadata": {
    "scrolled": true
   },
   "outputs": [
    {
     "name": "stdout",
     "output_type": "stream",
     "text": [
      "              precision    recall  f1-score   support\n",
      "\n",
      "           0       0.75      0.83      0.79        36\n",
      "           1       0.88      0.82      0.85        55\n",
      "\n",
      "    accuracy                           0.82        91\n",
      "   macro avg       0.82      0.83      0.82        91\n",
      "weighted avg       0.83      0.82      0.83        91\n",
      "\n",
      "[[30  6]\n",
      " [10 45]]\n"
     ]
    }
   ],
   "source": [
    "lr=create_model(lr)"
   ]
  },
  {
   "cell_type": "code",
   "execution_count": 18,
   "id": "586585fb",
   "metadata": {
    "scrolled": true
   },
   "outputs": [],
   "source": [
    "#here the accracy rate of having heart disease is 82 and not having heart disease is 83 which is good but not best so we will perfomr alof on this data"
   ]
  },
  {
   "cell_type": "markdown",
   "id": "85446976",
   "metadata": {},
   "source": [
    "# perform Decision trees classifier"
   ]
  },
  {
   "cell_type": "code",
   "execution_count": 19,
   "id": "48a37ae6",
   "metadata": {
    "scrolled": true
   },
   "outputs": [],
   "source": [
    "#performing decision tree classifier wiht deafult a sgini index\n",
    "from sklearn.tree import DecisionTreeClassifier"
   ]
  },
  {
   "cell_type": "code",
   "execution_count": 20,
   "id": "d421e746",
   "metadata": {
    "scrolled": true
   },
   "outputs": [],
   "source": [
    "dct=DecisionTreeClassifier()"
   ]
  },
  {
   "cell_type": "code",
   "execution_count": 21,
   "id": "74a2a0d2",
   "metadata": {
    "scrolled": true
   },
   "outputs": [
    {
     "name": "stdout",
     "output_type": "stream",
     "text": [
      "              precision    recall  f1-score   support\n",
      "\n",
      "           0       0.69      0.75      0.72        36\n",
      "           1       0.83      0.78      0.80        55\n",
      "\n",
      "    accuracy                           0.77        91\n",
      "   macro avg       0.76      0.77      0.76        91\n",
      "weighted avg       0.77      0.77      0.77        91\n",
      "\n",
      "[[27  9]\n",
      " [12 43]]\n"
     ]
    }
   ],
   "source": [
    "dct=create_model(dct)"
   ]
  },
  {
   "cell_type": "code",
   "execution_count": 22,
   "id": "5323d1a2",
   "metadata": {
    "scrolled": true
   },
   "outputs": [],
   "source": [
    "#here we get the accuracy of having heart diseases as 76 and not having heart diseases as 72  which i sdue to overfittinng o fthe model.\n",
    "#to avoid overfitting use pruning technique"
   ]
  },
  {
   "cell_type": "code",
   "execution_count": 23,
   "id": "8a3886d1",
   "metadata": {
    "scrolled": true
   },
   "outputs": [
    {
     "data": {
      "text/plain": [
       "array([0.13578853, 0.02671306, 0.27619667, 0.03534042, 0.01788047,\n",
       "       0.01786187, 0.01156769, 0.07686185, 0.02726991, 0.13255647,\n",
       "       0.05219014, 0.0841138 , 0.10565912])"
      ]
     },
     "execution_count": 23,
     "metadata": {},
     "output_type": "execute_result"
    }
   ],
   "source": [
    "#check important features means check information gain of each input\n",
    "dct.feature_importances_"
   ]
  },
  {
   "cell_type": "code",
   "execution_count": 24,
   "id": "1c13ed63",
   "metadata": {
    "scrolled": false
   },
   "outputs": [
    {
     "data": {
      "text/html": [
       "<div>\n",
       "<style scoped>\n",
       "    .dataframe tbody tr th:only-of-type {\n",
       "        vertical-align: middle;\n",
       "    }\n",
       "\n",
       "    .dataframe tbody tr th {\n",
       "        vertical-align: top;\n",
       "    }\n",
       "\n",
       "    .dataframe thead th {\n",
       "        text-align: right;\n",
       "    }\n",
       "</style>\n",
       "<table border=\"1\" class=\"dataframe\">\n",
       "  <thead>\n",
       "    <tr style=\"text-align: right;\">\n",
       "      <th></th>\n",
       "      <th>Input</th>\n",
       "      <th>IG</th>\n",
       "    </tr>\n",
       "  </thead>\n",
       "  <tbody>\n",
       "    <tr>\n",
       "      <th>0</th>\n",
       "      <td>cp</td>\n",
       "      <td>0.276197</td>\n",
       "    </tr>\n",
       "    <tr>\n",
       "      <th>1</th>\n",
       "      <td>age</td>\n",
       "      <td>0.135789</td>\n",
       "    </tr>\n",
       "    <tr>\n",
       "      <th>2</th>\n",
       "      <td>oldpeak</td>\n",
       "      <td>0.132556</td>\n",
       "    </tr>\n",
       "    <tr>\n",
       "      <th>3</th>\n",
       "      <td>thal</td>\n",
       "      <td>0.105659</td>\n",
       "    </tr>\n",
       "    <tr>\n",
       "      <th>4</th>\n",
       "      <td>ca</td>\n",
       "      <td>0.084114</td>\n",
       "    </tr>\n",
       "    <tr>\n",
       "      <th>5</th>\n",
       "      <td>thalach</td>\n",
       "      <td>0.076862</td>\n",
       "    </tr>\n",
       "    <tr>\n",
       "      <th>6</th>\n",
       "      <td>slope</td>\n",
       "      <td>0.052190</td>\n",
       "    </tr>\n",
       "    <tr>\n",
       "      <th>7</th>\n",
       "      <td>trestbps</td>\n",
       "      <td>0.035340</td>\n",
       "    </tr>\n",
       "    <tr>\n",
       "      <th>8</th>\n",
       "      <td>exang</td>\n",
       "      <td>0.027270</td>\n",
       "    </tr>\n",
       "    <tr>\n",
       "      <th>9</th>\n",
       "      <td>sex</td>\n",
       "      <td>0.026713</td>\n",
       "    </tr>\n",
       "    <tr>\n",
       "      <th>10</th>\n",
       "      <td>chol</td>\n",
       "      <td>0.017880</td>\n",
       "    </tr>\n",
       "    <tr>\n",
       "      <th>11</th>\n",
       "      <td>fbs</td>\n",
       "      <td>0.017862</td>\n",
       "    </tr>\n",
       "    <tr>\n",
       "      <th>12</th>\n",
       "      <td>restecg</td>\n",
       "      <td>0.011568</td>\n",
       "    </tr>\n",
       "  </tbody>\n",
       "</table>\n",
       "</div>"
      ],
      "text/plain": [
       "       Input        IG\n",
       "0         cp  0.276197\n",
       "1        age  0.135789\n",
       "2    oldpeak  0.132556\n",
       "3       thal  0.105659\n",
       "4         ca  0.084114\n",
       "5    thalach  0.076862\n",
       "6      slope  0.052190\n",
       "7   trestbps  0.035340\n",
       "8      exang  0.027270\n",
       "9        sex  0.026713\n",
       "10      chol  0.017880\n",
       "11       fbs  0.017862\n",
       "12   restecg  0.011568"
      ]
     },
     "execution_count": 24,
     "metadata": {},
     "output_type": "execute_result"
    }
   ],
   "source": [
    "dict={'Input':x.columns,\"IG\":dct.feature_importances_}\n",
    "df1=pd.DataFrame(dict)\n",
    "df1.sort_values(by='IG',ascending=False,ignore_index=True)#sorting the value in descending order\n",
    "#disadvantage of dct is that if there is little bit og ig is there then it will take that ig into consideration"
   ]
  },
  {
   "cell_type": "code",
   "execution_count": 25,
   "id": "6bd4ad01",
   "metadata": {
    "scrolled": true
   },
   "outputs": [
    {
     "name": "stdout",
     "output_type": "stream",
     "text": [
      "              precision    recall  f1-score   support\n",
      "\n",
      "           0       0.67      0.72      0.69        36\n",
      "           1       0.81      0.76      0.79        55\n",
      "\n",
      "    accuracy                           0.75        91\n",
      "   macro avg       0.74      0.74      0.74        91\n",
      "weighted avg       0.75      0.75      0.75        91\n",
      "\n",
      "[[26 10]\n",
      " [13 42]]\n"
     ]
    }
   ],
   "source": [
    "#using first method as max_depth:\n",
    "'''for i in range(1,9):\n",
    "    dct1=DecisionTreeClassifier(random_state=1,max_depth=i)\n",
    "    print(\"Max depth \",i)\n",
    "    dct1=create_model(dct1)'''\n",
    "dct1=DecisionTreeClassifier(random_state=1,max_depth=6)\n",
    "dct1=create_model(dct1)"
   ]
  },
  {
   "cell_type": "code",
   "execution_count": 26,
   "id": "c22c9518",
   "metadata": {
    "scrolled": true
   },
   "outputs": [],
   "source": [
    "#aftre max_depth pruning technique thencacuracy of heart dieseases is 76% nd not having heart dieseases is 72%"
   ]
  },
  {
   "cell_type": "code",
   "execution_count": 27,
   "id": "61897bf9",
   "metadata": {
    "scrolled": false
   },
   "outputs": [
    {
     "data": {
      "text/html": [
       "<div>\n",
       "<style scoped>\n",
       "    .dataframe tbody tr th:only-of-type {\n",
       "        vertical-align: middle;\n",
       "    }\n",
       "\n",
       "    .dataframe tbody tr th {\n",
       "        vertical-align: top;\n",
       "    }\n",
       "\n",
       "    .dataframe thead th {\n",
       "        text-align: right;\n",
       "    }\n",
       "</style>\n",
       "<table border=\"1\" class=\"dataframe\">\n",
       "  <thead>\n",
       "    <tr style=\"text-align: right;\">\n",
       "      <th></th>\n",
       "      <th>Input</th>\n",
       "      <th>IG</th>\n",
       "    </tr>\n",
       "  </thead>\n",
       "  <tbody>\n",
       "    <tr>\n",
       "      <th>0</th>\n",
       "      <td>cp</td>\n",
       "      <td>0.309856</td>\n",
       "    </tr>\n",
       "    <tr>\n",
       "      <th>1</th>\n",
       "      <td>thal</td>\n",
       "      <td>0.121937</td>\n",
       "    </tr>\n",
       "    <tr>\n",
       "      <th>2</th>\n",
       "      <td>oldpeak</td>\n",
       "      <td>0.119816</td>\n",
       "    </tr>\n",
       "    <tr>\n",
       "      <th>3</th>\n",
       "      <td>age</td>\n",
       "      <td>0.106206</td>\n",
       "    </tr>\n",
       "    <tr>\n",
       "      <th>4</th>\n",
       "      <td>ca</td>\n",
       "      <td>0.096807</td>\n",
       "    </tr>\n",
       "    <tr>\n",
       "      <th>5</th>\n",
       "      <td>thalach</td>\n",
       "      <td>0.064228</td>\n",
       "    </tr>\n",
       "    <tr>\n",
       "      <th>6</th>\n",
       "      <td>slope</td>\n",
       "      <td>0.058550</td>\n",
       "    </tr>\n",
       "    <tr>\n",
       "      <th>7</th>\n",
       "      <td>exang</td>\n",
       "      <td>0.030593</td>\n",
       "    </tr>\n",
       "    <tr>\n",
       "      <th>8</th>\n",
       "      <td>sex</td>\n",
       "      <td>0.029968</td>\n",
       "    </tr>\n",
       "    <tr>\n",
       "      <th>9</th>\n",
       "      <td>trestbps</td>\n",
       "      <td>0.029002</td>\n",
       "    </tr>\n",
       "    <tr>\n",
       "      <th>10</th>\n",
       "      <td>chol</td>\n",
       "      <td>0.020059</td>\n",
       "    </tr>\n",
       "    <tr>\n",
       "      <th>11</th>\n",
       "      <td>restecg</td>\n",
       "      <td>0.012977</td>\n",
       "    </tr>\n",
       "    <tr>\n",
       "      <th>12</th>\n",
       "      <td>fbs</td>\n",
       "      <td>0.000000</td>\n",
       "    </tr>\n",
       "  </tbody>\n",
       "</table>\n",
       "</div>"
      ],
      "text/plain": [
       "       Input        IG\n",
       "0         cp  0.309856\n",
       "1       thal  0.121937\n",
       "2    oldpeak  0.119816\n",
       "3        age  0.106206\n",
       "4         ca  0.096807\n",
       "5    thalach  0.064228\n",
       "6      slope  0.058550\n",
       "7      exang  0.030593\n",
       "8        sex  0.029968\n",
       "9   trestbps  0.029002\n",
       "10      chol  0.020059\n",
       "11   restecg  0.012977\n",
       "12       fbs  0.000000"
      ]
     },
     "execution_count": 27,
     "metadata": {},
     "output_type": "execute_result"
    }
   ],
   "source": [
    "dict={'Input':x.columns,\"IG\":dct1.feature_importances_}\n",
    "df1=pd.DataFrame(dict)\n",
    "df1.sort_values(by='IG',ascending=False,ignore_index=True)"
   ]
  },
  {
   "cell_type": "code",
   "execution_count": 28,
   "id": "90c39632",
   "metadata": {
    "scrolled": false
   },
   "outputs": [
    {
     "data": {
      "image/png": "[encoded data removed]",
      "text/plain": [
       "<Figure size 1440x1440 with 1 Axes>"
      ]
     },
     "metadata": {
      "needs_background": "light"
     },
     "output_type": "display_data"
    }
   ],
   "source": [
    "#create a decision tree\n",
    "from sklearn import tree\n",
    "features=x.columns#no of inputs\n",
    "plt.figure(figsize=(20,20))\n",
    "_=tree.plot_tree(dct1,feature_names=features,filled=True)#method to draw the tree"
   ]
  },
  {
   "cell_type": "code",
   "execution_count": 29,
   "id": "2fd23c71",
   "metadata": {
    "scrolled": true
   },
   "outputs": [
    {
     "name": "stdout",
     "output_type": "stream",
     "text": [
      "              precision    recall  f1-score   support\n",
      "\n",
      "           0       0.66      0.75      0.70        36\n",
      "           1       0.82      0.75      0.78        55\n",
      "\n",
      "    accuracy                           0.75        91\n",
      "   macro avg       0.74      0.75      0.74        91\n",
      "weighted avg       0.76      0.75      0.75        91\n",
      "\n",
      "[[27  9]\n",
      " [14 41]]\n"
     ]
    }
   ],
   "source": [
    "#second pruningtechnique of DCT\n",
    "#2. min_samples_leaf : inbuilt parameter of DecisionTreeClassifier\n",
    "'''for i in range(45,101):\n",
    "    dct2=DecisionTreeClassifier(random_state=1,min_samples_leaf=i)\n",
    "    print(\"min samples\",i)\n",
    "    dct2=create_model(dct2)'''\n",
    "dct2=DecisionTreeClassifier(random_state=1,min_samples_leaf=45)\n",
    "dct2=create_model(dct2)"
   ]
  },
  {
   "cell_type": "code",
   "execution_count": 30,
   "id": "8410d523",
   "metadata": {
    "scrolled": true
   },
   "outputs": [],
   "source": [
    "#aftre min_samples_leaf  pruning technique thencacuracy of heart dieseases is 75% nd not having heart dieseases is 75%"
   ]
  },
  {
   "cell_type": "code",
   "execution_count": 31,
   "id": "6827a217",
   "metadata": {
    "scrolled": true
   },
   "outputs": [],
   "source": [
    "#use entropy\n",
    "#passing the parameter ='entropy' by default ='giniindex' if not specified \n",
    "dct=DecisionTreeClassifier(random_state=1,criterion='entropy')\n",
    "#not applied pruning technique"
   ]
  },
  {
   "cell_type": "code",
   "execution_count": 32,
   "id": "1b84bfeb",
   "metadata": {
    "scrolled": true
   },
   "outputs": [],
   "source": [
    "dct=DecisionTreeClassifier()"
   ]
  },
  {
   "cell_type": "code",
   "execution_count": 33,
   "id": "0e2d3c17",
   "metadata": {
    "scrolled": true
   },
   "outputs": [
    {
     "name": "stdout",
     "output_type": "stream",
     "text": [
      "              precision    recall  f1-score   support\n",
      "\n",
      "           0       0.66      0.69      0.68        36\n",
      "           1       0.79      0.76      0.78        55\n",
      "\n",
      "    accuracy                           0.74        91\n",
      "   macro avg       0.73      0.73      0.73        91\n",
      "weighted avg       0.74      0.74      0.74        91\n",
      "\n",
      "[[25 11]\n",
      " [13 42]]\n"
     ]
    }
   ],
   "source": [
    "dct=create_model(dct)"
   ]
  },
  {
   "cell_type": "code",
   "execution_count": 34,
   "id": "b96bba02",
   "metadata": {
    "scrolled": true
   },
   "outputs": [],
   "source": [
    "#with entropy of dct the acacuracy of heart dieseases is 82% nd not having heart dieseases is 72% which maybe of overfitting of data\n"
   ]
  },
  {
   "cell_type": "code",
   "execution_count": 35,
   "id": "eb8a30c0",
   "metadata": {
    "scrolled": true
   },
   "outputs": [
    {
     "name": "stdout",
     "output_type": "stream",
     "text": [
      "              precision    recall  f1-score   support\n",
      "\n",
      "           0       0.66      0.75      0.70        36\n",
      "           1       0.82      0.75      0.78        55\n",
      "\n",
      "    accuracy                           0.75        91\n",
      "   macro avg       0.74      0.75      0.74        91\n",
      "weighted avg       0.76      0.75      0.75        91\n",
      "\n",
      "[[27  9]\n",
      " [14 41]]\n"
     ]
    }
   ],
   "source": [
    "# to avoid overfitting in DCT use pruning tehcnique in entropy:\n",
    "#using first method as max_depth:\n",
    "'''for i in range(1,9):\n",
    "    dct1=DecisionTreeClassifier(random_state=1,max_depth=i,criterion='entropy')\n",
    "    print(\"Max depth \",i)\n",
    "    dct1=create_model(dct1)'''\n",
    "dct1=DecisionTreeClassifier(random_state=1,max_depth=2)\n",
    "dct1=create_model(dct1)"
   ]
  },
  {
   "cell_type": "code",
   "execution_count": 36,
   "id": "c9654f2b",
   "metadata": {
    "scrolled": true
   },
   "outputs": [],
   "source": [
    "#here we get the accuracy of having heart diseases as 75 and not having heart diseases as 75  with thehelp of 1st pruning technique"
   ]
  },
  {
   "cell_type": "code",
   "execution_count": null,
   "id": "bb621c70",
   "metadata": {
    "scrolled": true
   },
   "outputs": [],
   "source": []
  },
  {
   "cell_type": "code",
   "execution_count": 37,
   "id": "4d9f5928",
   "metadata": {
    "scrolled": false
   },
   "outputs": [
    {
     "name": "stdout",
     "output_type": "stream",
     "text": [
      "              precision    recall  f1-score   support\n",
      "\n",
      "           0       0.66      0.75      0.70        36\n",
      "           1       0.82      0.75      0.78        55\n",
      "\n",
      "    accuracy                           0.75        91\n",
      "   macro avg       0.74      0.75      0.74        91\n",
      "weighted avg       0.76      0.75      0.75        91\n",
      "\n",
      "[[27  9]\n",
      " [14 41]]\n"
     ]
    }
   ],
   "source": [
    "#second pruningtechnique of DCT\n",
    "#2. min_samples_leaf : inbuilt parameter of DecisionTreeClassifier\n",
    "'''for i in range(45,101):\n",
    "    dct2=DecisionTreeClassifier(random_state=1,min_samples_leaf=i,criterion='entropy')\n",
    "    print(\"min samples\",i)\n",
    "    dct2=create_model(dct2)'''\n",
    "dct2=DecisionTreeClassifier(random_state=1,min_samples_leaf=65)\n",
    "dct2=create_model(dct2)"
   ]
  },
  {
   "cell_type": "code",
   "execution_count": 38,
   "id": "ed371039",
   "metadata": {
    "scrolled": true
   },
   "outputs": [],
   "source": [
    "#aftre min_samples_leaf  pruning technique thencacuracy of heart dieseases is 75% nd not having heart dieseases is 75% with entropy"
   ]
  },
  {
   "cell_type": "code",
   "execution_count": 39,
   "id": "aae2b45e",
   "metadata": {
    "scrolled": false
   },
   "outputs": [
    {
     "data": {
      "text/html": [
       "<div>\n",
       "<style scoped>\n",
       "    .dataframe tbody tr th:only-of-type {\n",
       "        vertical-align: middle;\n",
       "    }\n",
       "\n",
       "    .dataframe tbody tr th {\n",
       "        vertical-align: top;\n",
       "    }\n",
       "\n",
       "    .dataframe thead th {\n",
       "        text-align: right;\n",
       "    }\n",
       "</style>\n",
       "<table border=\"1\" class=\"dataframe\">\n",
       "  <thead>\n",
       "    <tr style=\"text-align: right;\">\n",
       "      <th></th>\n",
       "      <th>Input</th>\n",
       "      <th>IG</th>\n",
       "    </tr>\n",
       "  </thead>\n",
       "  <tbody>\n",
       "    <tr>\n",
       "      <th>0</th>\n",
       "      <td>cp</td>\n",
       "      <td>1.0</td>\n",
       "    </tr>\n",
       "    <tr>\n",
       "      <th>1</th>\n",
       "      <td>age</td>\n",
       "      <td>0.0</td>\n",
       "    </tr>\n",
       "    <tr>\n",
       "      <th>2</th>\n",
       "      <td>sex</td>\n",
       "      <td>0.0</td>\n",
       "    </tr>\n",
       "    <tr>\n",
       "      <th>3</th>\n",
       "      <td>trestbps</td>\n",
       "      <td>0.0</td>\n",
       "    </tr>\n",
       "    <tr>\n",
       "      <th>4</th>\n",
       "      <td>chol</td>\n",
       "      <td>0.0</td>\n",
       "    </tr>\n",
       "    <tr>\n",
       "      <th>5</th>\n",
       "      <td>fbs</td>\n",
       "      <td>0.0</td>\n",
       "    </tr>\n",
       "    <tr>\n",
       "      <th>6</th>\n",
       "      <td>restecg</td>\n",
       "      <td>0.0</td>\n",
       "    </tr>\n",
       "    <tr>\n",
       "      <th>7</th>\n",
       "      <td>thalach</td>\n",
       "      <td>0.0</td>\n",
       "    </tr>\n",
       "    <tr>\n",
       "      <th>8</th>\n",
       "      <td>exang</td>\n",
       "      <td>0.0</td>\n",
       "    </tr>\n",
       "    <tr>\n",
       "      <th>9</th>\n",
       "      <td>oldpeak</td>\n",
       "      <td>0.0</td>\n",
       "    </tr>\n",
       "    <tr>\n",
       "      <th>10</th>\n",
       "      <td>slope</td>\n",
       "      <td>0.0</td>\n",
       "    </tr>\n",
       "    <tr>\n",
       "      <th>11</th>\n",
       "      <td>ca</td>\n",
       "      <td>0.0</td>\n",
       "    </tr>\n",
       "    <tr>\n",
       "      <th>12</th>\n",
       "      <td>thal</td>\n",
       "      <td>0.0</td>\n",
       "    </tr>\n",
       "  </tbody>\n",
       "</table>\n",
       "</div>"
      ],
      "text/plain": [
       "       Input   IG\n",
       "0         cp  1.0\n",
       "1        age  0.0\n",
       "2        sex  0.0\n",
       "3   trestbps  0.0\n",
       "4       chol  0.0\n",
       "5        fbs  0.0\n",
       "6    restecg  0.0\n",
       "7    thalach  0.0\n",
       "8      exang  0.0\n",
       "9    oldpeak  0.0\n",
       "10     slope  0.0\n",
       "11        ca  0.0\n",
       "12      thal  0.0"
      ]
     },
     "execution_count": 39,
     "metadata": {},
     "output_type": "execute_result"
    }
   ],
   "source": [
    "dict={'Input':x.columns,\"IG\":dct2.feature_importances_}\n",
    "df1=pd.DataFrame(dict)\n",
    "df1.sort_values(by='IG',ascending=False,ignore_index=True)#sorting the value in descending order\n",
    "#disadvantage of dct is that if there is little bit og ig is there then it will take that ig into consideration"
   ]
  },
  {
   "cell_type": "markdown",
   "id": "3d012ace",
   "metadata": {},
   "source": [
    "# perform Random Forest Classifier"
   ]
  },
  {
   "cell_type": "code",
   "execution_count": 40,
   "id": "02b764dd",
   "metadata": {
    "scrolled": true
   },
   "outputs": [],
   "source": [
    "from sklearn.ensemble import RandomForestClassifier\n"
   ]
  },
  {
   "cell_type": "code",
   "execution_count": 41,
   "id": "1a42a93f",
   "metadata": {
    "scrolled": true
   },
   "outputs": [
    {
     "name": "stdout",
     "output_type": "stream",
     "text": [
      "              precision    recall  f1-score   support\n",
      "\n",
      "           0       0.76      0.89      0.82        36\n",
      "           1       0.92      0.82      0.87        55\n",
      "\n",
      "    accuracy                           0.85        91\n",
      "   macro avg       0.84      0.85      0.84        91\n",
      "weighted avg       0.86      0.85      0.85        91\n",
      "\n",
      "[[32  4]\n",
      " [10 45]]\n"
     ]
    }
   ],
   "source": [
    "#create a object of Random Forest Classifier\n",
    "rfc=RandomForestClassifier(n_estimators=10,max_features=5,random_state=1)\n",
    "#n_estimators means take how many decision tree should be taken\n",
    "#min tree=10 and max tree should be 100\n",
    "'''for i in range(12,1,-1):\n",
    "    rfc=RandomForestClassifier(random_state=1,n_estimators=10,max_features=i)\n",
    "    print(\"No of features \",i)\n",
    "    #call a function\n",
    "    rfc=create_model(rfc)'''\n",
    "rfc=create_model(rfc)\n",
    "#by default it has taken gini index"
   ]
  },
  {
   "cell_type": "code",
   "execution_count": 42,
   "id": "ee2ab142",
   "metadata": {
    "scrolled": true
   },
   "outputs": [],
   "source": [
    "#with 5 features we get the accuracy as heart dieasese is 82% and not having heart diesease as 89%"
   ]
  },
  {
   "cell_type": "code",
   "execution_count": 43,
   "id": "832ec1e1",
   "metadata": {
    "scrolled": true
   },
   "outputs": [
    {
     "data": {
      "text/html": [
       "<div>\n",
       "<style scoped>\n",
       "    .dataframe tbody tr th:only-of-type {\n",
       "        vertical-align: middle;\n",
       "    }\n",
       "\n",
       "    .dataframe tbody tr th {\n",
       "        vertical-align: top;\n",
       "    }\n",
       "\n",
       "    .dataframe thead th {\n",
       "        text-align: right;\n",
       "    }\n",
       "</style>\n",
       "<table border=\"1\" class=\"dataframe\">\n",
       "  <thead>\n",
       "    <tr style=\"text-align: right;\">\n",
       "      <th></th>\n",
       "      <th>Input</th>\n",
       "      <th>IG</th>\n",
       "    </tr>\n",
       "  </thead>\n",
       "  <tbody>\n",
       "    <tr>\n",
       "      <th>0</th>\n",
       "      <td>thal</td>\n",
       "      <td>0.188945</td>\n",
       "    </tr>\n",
       "    <tr>\n",
       "      <th>1</th>\n",
       "      <td>cp</td>\n",
       "      <td>0.144433</td>\n",
       "    </tr>\n",
       "    <tr>\n",
       "      <th>2</th>\n",
       "      <td>thalach</td>\n",
       "      <td>0.132663</td>\n",
       "    </tr>\n",
       "    <tr>\n",
       "      <th>3</th>\n",
       "      <td>oldpeak</td>\n",
       "      <td>0.124095</td>\n",
       "    </tr>\n",
       "    <tr>\n",
       "      <th>4</th>\n",
       "      <td>chol</td>\n",
       "      <td>0.090906</td>\n",
       "    </tr>\n",
       "    <tr>\n",
       "      <th>5</th>\n",
       "      <td>ca</td>\n",
       "      <td>0.082437</td>\n",
       "    </tr>\n",
       "    <tr>\n",
       "      <th>6</th>\n",
       "      <td>age</td>\n",
       "      <td>0.081661</td>\n",
       "    </tr>\n",
       "    <tr>\n",
       "      <th>7</th>\n",
       "      <td>trestbps</td>\n",
       "      <td>0.064333</td>\n",
       "    </tr>\n",
       "    <tr>\n",
       "      <th>8</th>\n",
       "      <td>sex</td>\n",
       "      <td>0.026788</td>\n",
       "    </tr>\n",
       "    <tr>\n",
       "      <th>9</th>\n",
       "      <td>slope</td>\n",
       "      <td>0.023456</td>\n",
       "    </tr>\n",
       "    <tr>\n",
       "      <th>10</th>\n",
       "      <td>exang</td>\n",
       "      <td>0.017381</td>\n",
       "    </tr>\n",
       "    <tr>\n",
       "      <th>11</th>\n",
       "      <td>fbs</td>\n",
       "      <td>0.011515</td>\n",
       "    </tr>\n",
       "    <tr>\n",
       "      <th>12</th>\n",
       "      <td>restecg</td>\n",
       "      <td>0.011386</td>\n",
       "    </tr>\n",
       "  </tbody>\n",
       "</table>\n",
       "</div>"
      ],
      "text/plain": [
       "       Input        IG\n",
       "0       thal  0.188945\n",
       "1         cp  0.144433\n",
       "2    thalach  0.132663\n",
       "3    oldpeak  0.124095\n",
       "4       chol  0.090906\n",
       "5         ca  0.082437\n",
       "6        age  0.081661\n",
       "7   trestbps  0.064333\n",
       "8        sex  0.026788\n",
       "9      slope  0.023456\n",
       "10     exang  0.017381\n",
       "11       fbs  0.011515\n",
       "12   restecg  0.011386"
      ]
     },
     "execution_count": 43,
     "metadata": {},
     "output_type": "execute_result"
    }
   ],
   "source": [
    "dict={'Input':x.columns,\"IG\":rfc.feature_importances_}\n",
    "df1=pd.DataFrame(dict)\n",
    "df1.sort_values(by='IG',ascending=False,ignore_index=True)"
   ]
  },
  {
   "cell_type": "markdown",
   "id": "a74a6f54",
   "metadata": {},
   "source": [
    "# performing ensemmbling technique:\n",
    "#1.ada boost"
   ]
  },
  {
   "cell_type": "code",
   "execution_count": 44,
   "id": "97844d6a",
   "metadata": {
    "scrolled": true
   },
   "outputs": [],
   "source": [
    "#use boosting technique:it is ensembling technique\n",
    "#1.ada boost:means adaptor boosting :its works on decision stump\n",
    "from sklearn.ensemble import AdaBoostClassifier\n"
   ]
  },
  {
   "cell_type": "code",
   "execution_count": 45,
   "id": "3213901d",
   "metadata": {
    "scrolled": false
   },
   "outputs": [
    {
     "name": "stdout",
     "output_type": "stream",
     "text": [
      "              precision    recall  f1-score   support\n",
      "\n",
      "           0       0.78      0.81      0.79        36\n",
      "           1       0.87      0.85      0.86        55\n",
      "\n",
      "    accuracy                           0.84        91\n",
      "   macro avg       0.83      0.83      0.83        91\n",
      "weighted avg       0.84      0.84      0.84        91\n",
      "\n",
      "[[29  7]\n",
      " [ 8 47]]\n"
     ]
    }
   ],
   "source": [
    "#create a object\n",
    "#n_estimator mean no of decsionstump and it should <=100\n",
    "\n",
    "'''for i in range(1,14):\n",
    "    ada=AdaBoostClassifier(n_estimators=i,random_state=1)\n",
    "    print(\"No of decision stump\",i)\n",
    "    #call function:\n",
    "    ada=create_model(ada)'''\n",
    "\n",
    "ada=AdaBoostClassifier(n_estimators=3,random_state=1)\n",
    "ada=create_model(ada)"
   ]
  },
  {
   "cell_type": "code",
   "execution_count": 46,
   "id": "b1ae41b8",
   "metadata": {
    "scrolled": true
   },
   "outputs": [],
   "source": [
    "#here we get the accuracy of havig=ng heart diesease as 85% and not having heart diesease as 81%"
   ]
  },
  {
   "cell_type": "markdown",
   "id": "1f0ea1f8",
   "metadata": {},
   "source": [
    "# gradient bosting:\n",
    "#.2 Gradient Boosting(GB) : - "
   ]
  },
  {
   "cell_type": "code",
   "execution_count": 47,
   "id": "37ab69b5",
   "metadata": {
    "scrolled": false
   },
   "outputs": [],
   "source": [
    "from sklearn.ensemble import GradientBoostingClassifier"
   ]
  },
  {
   "cell_type": "code",
   "execution_count": 48,
   "id": "e4fd05f0",
   "metadata": {
    "scrolled": true
   },
   "outputs": [
    {
     "name": "stdout",
     "output_type": "stream",
     "text": [
      "              precision    recall  f1-score   support\n",
      "\n",
      "           0       0.76      0.81      0.78        36\n",
      "           1       0.87      0.84      0.85        55\n",
      "\n",
      "    accuracy                           0.82        91\n",
      "   macro avg       0.82      0.82      0.82        91\n",
      "weighted avg       0.83      0.82      0.82        91\n",
      "\n",
      "[[29  7]\n",
      " [ 9 46]]\n"
     ]
    }
   ],
   "source": [
    "'''for i in range(10,101):\n",
    "    gbc=GradientBoostingClassifier(n_estimators=i,random_state=1)\n",
    "    print(\"No of estimator\",i)\n",
    "    gbc=create_model(gbc)'''\n",
    "#all features and all data\n",
    "gbc=GradientBoostingClassifier(n_estimators=25,random_state=1)\n",
    "\n",
    "gbc=create_model(gbc)"
   ]
  },
  {
   "cell_type": "code",
   "execution_count": 49,
   "id": "dae70428",
   "metadata": {
    "scrolled": false
   },
   "outputs": [],
   "source": [
    "#here we get the accuracy of having heart diesease as 84% and not having heart diesease as 81%"
   ]
  },
  {
   "cell_type": "markdown",
   "id": "9f242e9c",
   "metadata": {},
   "source": [
    "# Extreme Gradient Boosting"
   ]
  },
  {
   "cell_type": "code",
   "execution_count": 50,
   "id": "b1140d24",
   "metadata": {
    "scrolled": true
   },
   "outputs": [
    {
     "name": "stdout",
     "output_type": "stream",
     "text": [
      "Requirement already satisfied: xgboost in c:\\users\\kunal\\appdata\\local\\programs\\python\\python310\\lib\\site-packages (1.6.2)\n",
      "Requirement already satisfied: scipy in c:\\users\\kunal\\appdata\\local\\programs\\python\\python310\\lib\\site-packages (from xgboost) (1.8.1)\n",
      "Requirement already satisfied: numpy in c:\\users\\kunal\\appdata\\local\\programs\\python\\python310\\lib\\site-packages (from xgboost) (1.23.0)\n",
      "\n",
      "[notice] A new release of pip available: 22.2 -> 22.3\n",
      "[notice] To update, run: python.exe -m pip install --upgrade pip\n"
     ]
    }
   ],
   "source": [
    "!pip install xgboost"
   ]
  },
  {
   "cell_type": "code",
   "execution_count": 51,
   "id": "9426d0a3",
   "metadata": {
    "scrolled": true
   },
   "outputs": [],
   "source": [
    "from xgboost import XGBClassifier "
   ]
  },
  {
   "cell_type": "code",
   "execution_count": 52,
   "id": "c7fdd64c",
   "metadata": {
    "scrolled": false
   },
   "outputs": [
    {
     "name": "stdout",
     "output_type": "stream",
     "text": [
      "              precision    recall  f1-score   support\n",
      "\n",
      "           0       0.76      0.81      0.78        36\n",
      "           1       0.87      0.84      0.85        55\n",
      "\n",
      "    accuracy                           0.82        91\n",
      "   macro avg       0.82      0.82      0.82        91\n",
      "weighted avg       0.83      0.82      0.82        91\n",
      "\n",
      "[[29  7]\n",
      " [ 9 46]]\n"
     ]
    },
    {
     "data": {
      "text/plain": [
       "'for i in range(10,101):\\n    xgb=XGBClassifier(n_estimators=i,random_state=1,reg_alpha=1)\\n    print(\"No of estimator\",i)\\n    xgb=create_model(xgb)'"
      ]
     },
     "execution_count": 52,
     "metadata": {},
     "output_type": "execute_result"
    }
   ],
   "source": [
    "xgb=XGBClassifier(n_estimators=18,random_state=1,reg_alpha=1)\n",
    "#here reg_aplha=1 means yes we want ot handle overfitting and reg men regularegularisation \n",
    "#alpha and lambda is hyperparameter\n",
    "xgb=create_model(xgb)\n",
    "'''for i in range(10,101):\n",
    "    xgb=XGBClassifier(n_estimators=i,random_state=1,reg_alpha=1)\n",
    "    print(\"No of estimator\",i)\n",
    "    xgb=create_model(xgb)'''\n"
   ]
  },
  {
   "cell_type": "code",
   "execution_count": 53,
   "id": "9768fc50",
   "metadata": {},
   "outputs": [],
   "source": [
    "#here we will be taking n_estimator a 18 bcz the accurarcy socre is having heart dieseas as 84%  and 81% not having heart diesease  which is good.\n"
   ]
  },
  {
   "cell_type": "markdown",
   "id": "06c5c4ab",
   "metadata": {},
   "source": [
    "# support vector machine"
   ]
  },
  {
   "cell_type": "code",
   "execution_count": 54,
   "id": "72f6d9b1",
   "metadata": {},
   "outputs": [],
   "source": [
    "#1. Linear Separable data means Linear Kernal\n",
    "#call inbuilt class \n",
    "from sklearn.svm import LinearSVC"
   ]
  },
  {
   "cell_type": "code",
   "execution_count": 55,
   "id": "6e65c64b",
   "metadata": {},
   "outputs": [],
   "source": [
    "#create the object of LinearSVC class\n",
    "svc=LinearSVC(random_state=1) "
   ]
  },
  {
   "cell_type": "code",
   "execution_count": 56,
   "id": "7b7ca2db",
   "metadata": {},
   "outputs": [
    {
     "name": "stdout",
     "output_type": "stream",
     "text": [
      "              precision    recall  f1-score   support\n",
      "\n",
      "           0       0.81      0.83      0.82        36\n",
      "           1       0.89      0.87      0.88        55\n",
      "\n",
      "    accuracy                           0.86        91\n",
      "   macro avg       0.85      0.85      0.85        91\n",
      "weighted avg       0.86      0.86      0.86        91\n",
      "\n",
      "[[30  6]\n",
      " [ 7 48]]\n"
     ]
    }
   ],
   "source": [
    "#call function \n",
    "svc=create_model(svc)"
   ]
  },
  {
   "cell_type": "code",
   "execution_count": 57,
   "id": "a539dc4b",
   "metadata": {},
   "outputs": [],
   "source": [
    "#using linear svm the accurarcy socre is having heart diesease as 0-83%  and 1-87% not having heart diesease "
   ]
  },
  {
   "cell_type": "code",
   "execution_count": 58,
   "id": "9193da2d",
   "metadata": {},
   "outputs": [],
   "source": [
    "#create object of LinearSVC class and add some external error \n",
    "svc1=LinearSVC(random_state=1,C=0.001)"
   ]
  },
  {
   "cell_type": "code",
   "execution_count": 59,
   "id": "a5048069",
   "metadata": {},
   "outputs": [
    {
     "name": "stdout",
     "output_type": "stream",
     "text": [
      "              precision    recall  f1-score   support\n",
      "\n",
      "           0       0.85      0.81      0.83        36\n",
      "           1       0.88      0.91      0.89        55\n",
      "\n",
      "    accuracy                           0.87        91\n",
      "   macro avg       0.87      0.86      0.86        91\n",
      "weighted avg       0.87      0.87      0.87        91\n",
      "\n",
      "[[29  7]\n",
      " [ 5 50]]\n"
     ]
    }
   ],
   "source": [
    "svc1=create_model(svc1)\n",
    "#here the accuracy is not increasing after adding error"
   ]
  },
  {
   "cell_type": "code",
   "execution_count": 60,
   "id": "57cb0d7f",
   "metadata": {},
   "outputs": [],
   "source": [
    "# the linear svc scopre of having herat dieseases is 91% and  not having herat diesases as 81%"
   ]
  },
  {
   "cell_type": "markdown",
   "id": "d2415e3a",
   "metadata": {},
   "source": [
    "# # Non-linear data\n",
    "#1.polynomial kernel function"
   ]
  },
  {
   "cell_type": "code",
   "execution_count": 61,
   "id": "8819256b",
   "metadata": {},
   "outputs": [],
   "source": [
    "#SVC-support vector classifier \n",
    "from sklearn.svm import SVC\n"
   ]
  },
  {
   "cell_type": "code",
   "execution_count": 62,
   "id": "a2269ab6",
   "metadata": {},
   "outputs": [
    {
     "name": "stdout",
     "output_type": "stream",
     "text": [
      "              precision    recall  f1-score   support\n",
      "\n",
      "           0       0.78      0.69      0.74        36\n",
      "           1       0.81      0.87      0.84        55\n",
      "\n",
      "    accuracy                           0.80        91\n",
      "   macro avg       0.80      0.78      0.79        91\n",
      "weighted avg       0.80      0.80      0.80        91\n",
      "\n",
      "[[25 11]\n",
      " [ 7 48]]\n"
     ]
    }
   ],
   "source": [
    "#create  a object and specifying whcih kernel function should be passed in parameter\n",
    "svc1=SVC(random_state=1,kernel='poly')\n",
    "#call function \n",
    "svc1=create_model(svc1)"
   ]
  },
  {
   "cell_type": "code",
   "execution_count": 63,
   "id": "d5e7e2af",
   "metadata": {},
   "outputs": [],
   "source": [
    "# the poly svc score of having heartt dieseases is 87% and  not having heart diesases as 69% beacasuebthe data is non non linear"
   ]
  },
  {
   "cell_type": "code",
   "execution_count": 64,
   "id": "8cae9f4c",
   "metadata": {},
   "outputs": [
    {
     "name": "stdout",
     "output_type": "stream",
     "text": [
      "              precision    recall  f1-score   support\n",
      "\n",
      "           0       0.71      0.83      0.77        36\n",
      "           1       0.88      0.78      0.83        55\n",
      "\n",
      "    accuracy                           0.80        91\n",
      "   macro avg       0.80      0.81      0.80        91\n",
      "weighted avg       0.81      0.80      0.80        91\n",
      "\n",
      "[[30  6]\n",
      " [12 43]]\n"
     ]
    }
   ],
   "source": [
    "#creat eobjet of sc of rdail basis kernel function\n",
    "svc2=SVC(random_state=1,kernel='rbf')\n",
    "svc2=create_model(svc2)"
   ]
  },
  {
   "cell_type": "code",
   "execution_count": 65,
   "id": "1ffb8f05",
   "metadata": {},
   "outputs": [],
   "source": [
    "# the radial  svc score of having heart dieseases is 78% and  not having herat diesases as 83% because the data is not radially distributed."
   ]
  },
  {
   "cell_type": "code",
   "execution_count": 66,
   "id": "260dd0ee",
   "metadata": {},
   "outputs": [
    {
     "data": {
      "text/html": [
       "<div>\n",
       "<style scoped>\n",
       "    .dataframe tbody tr th:only-of-type {\n",
       "        vertical-align: middle;\n",
       "    }\n",
       "\n",
       "    .dataframe tbody tr th {\n",
       "        vertical-align: top;\n",
       "    }\n",
       "\n",
       "    .dataframe thead th {\n",
       "        text-align: right;\n",
       "    }\n",
       "</style>\n",
       "<table border=\"1\" class=\"dataframe\">\n",
       "  <thead>\n",
       "    <tr style=\"text-align: right;\">\n",
       "      <th></th>\n",
       "      <th>Input</th>\n",
       "      <th>IG</th>\n",
       "    </tr>\n",
       "  </thead>\n",
       "  <tbody>\n",
       "    <tr>\n",
       "      <th>0</th>\n",
       "      <td>cp</td>\n",
       "      <td>0.333333</td>\n",
       "    </tr>\n",
       "    <tr>\n",
       "      <th>1</th>\n",
       "      <td>ca</td>\n",
       "      <td>0.333333</td>\n",
       "    </tr>\n",
       "    <tr>\n",
       "      <th>2</th>\n",
       "      <td>thal</td>\n",
       "      <td>0.333333</td>\n",
       "    </tr>\n",
       "    <tr>\n",
       "      <th>3</th>\n",
       "      <td>age</td>\n",
       "      <td>0.000000</td>\n",
       "    </tr>\n",
       "    <tr>\n",
       "      <th>4</th>\n",
       "      <td>sex</td>\n",
       "      <td>0.000000</td>\n",
       "    </tr>\n",
       "    <tr>\n",
       "      <th>5</th>\n",
       "      <td>trestbps</td>\n",
       "      <td>0.000000</td>\n",
       "    </tr>\n",
       "    <tr>\n",
       "      <th>6</th>\n",
       "      <td>chol</td>\n",
       "      <td>0.000000</td>\n",
       "    </tr>\n",
       "    <tr>\n",
       "      <th>7</th>\n",
       "      <td>fbs</td>\n",
       "      <td>0.000000</td>\n",
       "    </tr>\n",
       "    <tr>\n",
       "      <th>8</th>\n",
       "      <td>restecg</td>\n",
       "      <td>0.000000</td>\n",
       "    </tr>\n",
       "    <tr>\n",
       "      <th>9</th>\n",
       "      <td>thalach</td>\n",
       "      <td>0.000000</td>\n",
       "    </tr>\n",
       "    <tr>\n",
       "      <th>10</th>\n",
       "      <td>exang</td>\n",
       "      <td>0.000000</td>\n",
       "    </tr>\n",
       "    <tr>\n",
       "      <th>11</th>\n",
       "      <td>oldpeak</td>\n",
       "      <td>0.000000</td>\n",
       "    </tr>\n",
       "    <tr>\n",
       "      <th>12</th>\n",
       "      <td>slope</td>\n",
       "      <td>0.000000</td>\n",
       "    </tr>\n",
       "  </tbody>\n",
       "</table>\n",
       "</div>"
      ],
      "text/plain": [
       "       Input        IG\n",
       "0         cp  0.333333\n",
       "1         ca  0.333333\n",
       "2       thal  0.333333\n",
       "3        age  0.000000\n",
       "4        sex  0.000000\n",
       "5   trestbps  0.000000\n",
       "6       chol  0.000000\n",
       "7        fbs  0.000000\n",
       "8    restecg  0.000000\n",
       "9    thalach  0.000000\n",
       "10     exang  0.000000\n",
       "11   oldpeak  0.000000\n",
       "12     slope  0.000000"
      ]
     },
     "execution_count": 66,
     "metadata": {},
     "output_type": "execute_result"
    }
   ],
   "source": [
    "dict={'Input':x.columns,\"IG\":ada.feature_importances_}\n",
    "df2=pd.DataFrame(dict)\n",
    "df2.sort_values(by='IG',ascending=False,ignore_index=True)"
   ]
  },
  {
   "cell_type": "markdown",
   "id": "aa9c64ca",
   "metadata": {},
   "source": [
    "# K-nearest neighbor classifier:"
   ]
  },
  {
   "cell_type": "code",
   "execution_count": 67,
   "id": "9e541f63",
   "metadata": {},
   "outputs": [],
   "source": [
    "#important features : input (cp,ca,thal)\n",
    "#select input and ouput\n",
    "x=df[['cp','ca','thal']]\n",
    "y=df[\"target\"]"
   ]
  },
  {
   "cell_type": "code",
   "execution_count": 68,
   "id": "8fb9b710",
   "metadata": {},
   "outputs": [],
   "source": [
    "# spliting the data of x and y using train_test_split\n",
    "from sklearn.model_selection import train_test_split\n",
    "x_train,x_test,y_train,y_test=train_test_split(x,y,test_size=0.3,random_state=1)"
   ]
  },
  {
   "cell_type": "code",
   "execution_count": 69,
   "id": "82b7a9fe",
   "metadata": {},
   "outputs": [],
   "source": [
    "#first apply standardscaler\n",
    "from sklearn.preprocessing import StandardScaler\n",
    "#create object for StandardScaler class\n",
    "ss=StandardScaler()\n",
    "x_train=ss.fit_transform(x_train)\n",
    "x_test=ss.transform(x_test)"
   ]
  },
  {
   "cell_type": "code",
   "execution_count": 70,
   "id": "7ed17008",
   "metadata": {},
   "outputs": [],
   "source": [
    "from sklearn.neighbors import KNeighborsClassifier\n",
    "KNC=KNeighborsClassifier(n_neighbors=5,metric='minkowski',p=2)\n",
    "#p=2 means Euclidean distance means sqrt(x2-x1)*2+(y2-y1)*2\n",
    "#n_neighbors means k means select minimum point (always odd)\n",
    "#best value of k=5\n",
    "#we can increase the n_neighbors value as  5 and 7 not 6"
   ]
  },
  {
   "cell_type": "code",
   "execution_count": 71,
   "id": "c09de307",
   "metadata": {},
   "outputs": [
    {
     "name": "stdout",
     "output_type": "stream",
     "text": [
      "              precision    recall  f1-score   support\n",
      "\n",
      "           0       0.76      0.81      0.78        36\n",
      "           1       0.87      0.84      0.85        55\n",
      "\n",
      "    accuracy                           0.82        91\n",
      "   macro avg       0.82      0.82      0.82        91\n",
      "weighted avg       0.83      0.82      0.82        91\n",
      "\n",
      "[[29  7]\n",
      " [ 9 46]]\n"
     ]
    }
   ],
   "source": [
    "KNC=create_model(KNC)"
   ]
  },
  {
   "cell_type": "code",
   "execution_count": 72,
   "id": "9cf1d726",
   "metadata": {},
   "outputs": [],
   "source": [
    "#after applying k neghbours classifier ,the accuracy we got as 84% having heart disease and 81% not hvaing heart diasease ."
   ]
  },
  {
   "cell_type": "code",
   "execution_count": 73,
   "id": "591ee97e",
   "metadata": {},
   "outputs": [],
   "source": [
    "#CONCLUSION:In heart diseases prediction data set,support vector machine using linear data algorithm is best with having disease as 87% and not having disease as 83%."
   ]
  },
  {
   "cell_type": "code",
   "execution_count": null,
   "id": "accb1696",
   "metadata": {},
   "outputs": [],
   "source": [
    "\n"
   ]
  },
  {
   "cell_type": "code",
   "execution_count": null,
   "id": "653ae4d5",
   "metadata": {},
   "outputs": [],
   "source": []
  },
  {
   "cell_type": "code",
   "execution_count": null,
   "id": "d9886111",
   "metadata": {},
   "outputs": [],
   "source": []
  },
  {
   "cell_type": "code",
   "execution_count": null,
   "id": "c46a73e7",
   "metadata": {},
   "outputs": [],
   "source": []
  },
  {
   "cell_type": "code",
   "execution_count": null,
   "id": "a86b1815",
   "metadata": {},
   "outputs": [],
   "source": []
  },
  {
   "cell_type": "code",
   "execution_count": null,
   "id": "6e9c4890",
   "metadata": {},
   "outputs": [],
   "source": []
  },
  {
   "cell_type": "code",
   "execution_count": null,
   "id": "8f31c30c",
   "metadata": {},
   "outputs": [],
   "source": []
  }
 ],
 "metadata": {
  "kernelspec": {
   "display_name": "Python 3 (ipykernel)",
   "language": "python",
   "name": "python3"
  },
  "language_info": {
   "codemirror_mode": {
    "name": "ipython",
    "version": 3
   },
   "file_extension": ".py",
   "mimetype": "text/x-python",
   "name": "python",
   "nbconvert_exporter": "python",
   "pygments_lexer": "ipython3",
   "version": "3.10.5"
  }
 },
 "nbformat": 4,
 "nbformat_minor": 5
}
